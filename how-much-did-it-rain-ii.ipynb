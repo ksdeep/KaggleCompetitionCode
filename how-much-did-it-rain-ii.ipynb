{
  "cells": [
    {
      "cell_type": "code",
      "source": [
        "from google.colab import drive\n",
        "drive.mount('/content/drive')"
      ],
      "metadata": {
        "id": "6JvXSGwW2w8Z"
      },
      "id": "6JvXSGwW2w8Z",
      "execution_count": null,
      "outputs": []
    },
    {
      "cell_type": "code",
      "execution_count": null,
      "id": "2d44e6d1",
      "metadata": {
        "id": "2d44e6d1"
      },
      "outputs": [],
      "source": [
        "%matplotlib inline\n",
        "\n",
        "\n",
        "# Numerical libraries\n",
        "import numpy as np   \n",
        "\n",
        "# Import Linear Regression machine learning library\n",
        "from sklearn.linear_model import LinearRegression\n",
        "from sklearn.linear_model import Ridge\n",
        "from sklearn.linear_model import Lasso\n",
        "\n",
        "from sklearn.metrics import r2_score\n",
        "\n",
        "# to handle data in form of rows and columns \n",
        "import pandas as pd    \n",
        "\n",
        "# importing ploting libraries\n",
        "import matplotlib.pyplot as plt   \n",
        "\n",
        "#importing seaborn for statistical plots\n",
        "import seaborn as sns"
      ]
    },
    {
      "cell_type": "code",
      "execution_count": null,
      "id": "6249dc09",
      "metadata": {
        "id": "6249dc09"
      },
      "outputs": [],
      "source": [
        "allData = pd.read_csv(r'/content/drive/MyDrive/How Much Did It Rain/train.csv')\n",
        "allData.head()"
      ]
    },
    {
      "cell_type": "code",
      "execution_count": null,
      "id": "8050cd66",
      "metadata": {
        "id": "8050cd66"
      },
      "outputs": [],
      "source": [
        "allData.columns"
      ]
    },
    {
      "cell_type": "code",
      "execution_count": null,
      "id": "868b15de",
      "metadata": {
        "id": "868b15de"
      },
      "outputs": [],
      "source": [
        "allData = allData.groupby('Id').mean().dropna()"
      ]
    },
    {
      "cell_type": "code",
      "execution_count": null,
      "id": "120cf278",
      "metadata": {
        "id": "120cf278"
      },
      "outputs": [],
      "source": [
        "trainData = allData.reset_index().drop(columns=['Id','minutes_past'])\n",
        "trainData = trainData.loc[:,['radardist_km','Ref','RefComposite','RhoHV','Zdr','Kdp','Expected']]"
      ]
    },
    {
      "cell_type": "code",
      "execution_count": null,
      "id": "29ce8058",
      "metadata": {
        "id": "29ce8058"
      },
      "outputs": [],
      "source": [
        "fig = plt.figure(figsize=(20,20))\n",
        "sns.heatmap(trainData.loc[:,:].corr(), annot=True)\n",
        "plt.show()"
      ]
    },
    {
      "cell_type": "code",
      "source": [
        "import scipy.stats as stats\n",
        "q1 = trainData.Expected.quantile(0.25)\n",
        "q3 = trainData.Expected.quantile(0.75)\n",
        "q2 = trainData.Expected.quantile(0.5)\n",
        "lsl = q1 - 1.5*(q3-q1)\n",
        "usl = q3 + 1.5*(q3-q1)\n",
        "trainData = trainData.loc[((trainData.Expected<=usl)&(trainData.Expected>=lsl)),:]"
      ],
      "metadata": {
        "id": "QG3eWS7-jsZK"
      },
      "id": "QG3eWS7-jsZK",
      "execution_count": null,
      "outputs": []
    },
    {
      "cell_type": "code",
      "source": [
        "random_state = 1 \n",
        "features = list(set(trainData.columns) - {'Expected'}) \n",
        "predicted = 'Expected'\n",
        "from sklearn.model_selection import train_test_split\n",
        "from sklearn.preprocessing import PolynomialFeatures\n",
        "featuresData = trainData.loc[:,features].values\n",
        "predictor = trainData.loc[:,predicted].values"
      ],
      "metadata": {
        "id": "hDYtZRv-jt_p"
      },
      "id": "hDYtZRv-jt_p",
      "execution_count": null,
      "outputs": []
    },
    {
      "cell_type": "code",
      "source": [
        "featuresData = PolynomialFeatures(degree=3).fit_transform(featuresData)"
      ],
      "metadata": {
        "id": "XM2YNCc4jvdZ"
      },
      "id": "XM2YNCc4jvdZ",
      "execution_count": null,
      "outputs": []
    },
    {
      "cell_type": "code",
      "source": [
        "X_train, X_test, y_train, y_test = train_test_split(featuresData,predictor,test_size=0.2,random_state=random_state)"
      ],
      "metadata": {
        "id": "-eUGwKEPjwxB"
      },
      "id": "-eUGwKEPjwxB",
      "execution_count": null,
      "outputs": []
    },
    {
      "cell_type": "code",
      "source": [
        "lm = Lasso()\n",
        "lm.fit(X_train,y_train)\n",
        "lm.score(X_train,y_train)"
      ],
      "metadata": {
        "id": "rtITV4DijyEw"
      },
      "id": "rtITV4DijyEw",
      "execution_count": null,
      "outputs": []
    },
    {
      "cell_type": "code",
      "source": [
        "lm.score(X_test,y_test)"
      ],
      "metadata": {
        "id": "ylqyuDtijzKQ"
      },
      "id": "ylqyuDtijzKQ",
      "execution_count": null,
      "outputs": []
    },
    {
      "cell_type": "code",
      "source": [
        "lm.coef_"
      ],
      "metadata": {
        "id": "XCPm_2p9yGyb"
      },
      "id": "XCPm_2p9yGyb",
      "execution_count": null,
      "outputs": []
    },
    {
      "cell_type": "code",
      "source": [],
      "metadata": {
        "id": "iFVajq8azO6K"
      },
      "id": "iFVajq8azO6K",
      "execution_count": null,
      "outputs": []
    }
  ],
  "metadata": {
    "kernelspec": {
      "display_name": "Python 3 (ipykernel)",
      "language": "python",
      "name": "python3"
    },
    "language_info": {
      "codemirror_mode": {
        "name": "ipython",
        "version": 3
      },
      "file_extension": ".py",
      "mimetype": "text/x-python",
      "name": "python",
      "nbconvert_exporter": "python",
      "pygments_lexer": "ipython3",
      "version": "3.8.8"
    },
    "colab": {
      "private_outputs": true,
      "provenance": [],
      "toc_visible": true
    },
    "accelerator": "TPU",
    "gpuClass": "standard"
  },
  "nbformat": 4,
  "nbformat_minor": 5
}